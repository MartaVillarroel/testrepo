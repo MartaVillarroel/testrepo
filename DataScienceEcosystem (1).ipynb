{
  "metadata": {
    "kernelspec": {
      "name": "python",
      "display_name": "Python (Pyodide)",
      "language": "python"
    },
    "language_info": {
      "codemirror_mode": {
        "name": "python",
        "version": 3
      },
      "file_extension": ".py",
      "mimetype": "text/x-python",
      "name": "python",
      "nbconvert_exporter": "python",
      "pygments_lexer": "ipython3",
      "version": "3.8"
    }
  },
  "nbformat_minor": 5,
  "nbformat": 4,
  "cells": [
    {
      "id": "c0a409f2",
      "cell_type": "markdown",
      "source": "# Data Science Tools and Ecosystem",
      "metadata": {}
    },
    {
      "id": "b5f92083",
      "cell_type": "markdown",
      "source": "In this notebook, Data Science Tools and Ecosystem are summarized.",
      "metadata": {}
    },
    {
      "id": "79cf9e62",
      "cell_type": "markdown",
      "source": "**Note**: The Excercise 1 is the creation of this Jupyter Notebook, Excercise 2 consist in making the Title and Excercise 3 is the previous introduction to this Jupyter Notebook.",
      "metadata": {}
    },
    {
      "id": "8f3ab2e0",
      "cell_type": "markdown",
      "source": "## Exercise 4 - Create a markdown cell to list data science languages\n\n\nSome of the popular languages that Data Scientists use are:\n\n1. Python\n2. R\n3. SQL\n4. Julia",
      "metadata": {
        "jp-MarkdownHeadingCollapsed": true
      }
    },
    {
      "id": "55d2d363",
      "cell_type": "markdown",
      "source": "## Exercise 5 - Create a markdown cell to list data science libraries\nSome of the commonly used libraries used by Data Scientists include:\n\n1. Pandas\n2. NumPy\n3. Matplotlib\n4. Scikit-learn\n",
      "metadata": {}
    },
    {
      "id": "199f23a8",
      "cell_type": "markdown",
      "source": "## Exercise 6 - Create a markdown cell with a table of Data Science tools\n\n| **Data Science Tools**     |\n|----------------------------|\n| Jupyter Notebook            |\n| RStudio                     |\n| Apache Zeppelin             |\n",
      "metadata": {}
    },
    {
      "id": "aa5669af",
      "cell_type": "markdown",
      "source": "## Exercise 7 - Create a markdown cell introducing arithmetic expression examples\n\n### Below are a few examples of evaluating arithmetic expressions in Python.\n\n1. **Addition:** `5 + 3 = 8`\n   \n2. **Subtraction:** `10 - 4 = 6`\n   \n3. **Multiplication:** `3 * 7 = 21`\n   \n4. **Division:** `16 / 2 = 8`\n   \n5. **Exponentiation:** `2 ** 3 = 8`\n",
      "metadata": {}
    },
    {
      "id": "8321bd7a",
      "cell_type": "markdown",
      "source": "## Exercise 8 - Create a code cell to multiply and add numbers",
      "metadata": {}
    },
    {
      "id": "07df80f5",
      "cell_type": "code",
      "source": "# This is a simple arithmetic expression to multiply then add integers\n(3 * 4) + 5",
      "metadata": {
        "trusted": true
      },
      "outputs": [
        {
          "execution_count": 1,
          "output_type": "execute_result",
          "data": {
            "text/plain": "17"
          },
          "metadata": {}
        }
      ],
      "execution_count": 1
    },
    {
      "id": "ce63ff36",
      "cell_type": "markdown",
      "source": "## Exercise 9 - Create a code cell to convert minutes to hours\n",
      "metadata": {}
    },
    {
      "id": "a8d8c04d",
      "cell_type": "code",
      "source": "# This will convert 200 minutes to hours by dividing by 60\n200 / 60",
      "metadata": {
        "trusted": true
      },
      "outputs": [
        {
          "execution_count": 2,
          "output_type": "execute_result",
          "data": {
            "text/plain": "3.3333333333333335"
          },
          "metadata": {}
        }
      ],
      "execution_count": 2
    },
    {
      "id": "5eae6bfe",
      "cell_type": "markdown",
      "source": "## Exercise 10 - Insert a markdown cell to list Objectives",
      "metadata": {}
    },
    {
      "id": "3b0d8dfc",
      "cell_type": "markdown",
      "source": "**Objectives:**\n\n- List popular languages for Data Science\n- Identify commonly used Data Science libraries\n- Explore different open-source Data Science tools\n- Perform basic arithmetic operations in Python\n- Understand the process of converting units in Python (e.g., minutes to hours)",
      "metadata": {}
    },
    {
      "id": "4d0a23c2",
      "cell_type": "markdown",
      "source": "## Exercise 11 - Create a markdown cell to indicate the Author's name",
      "metadata": {}
    },
    {
      "id": "f8f15536",
      "cell_type": "markdown",
      "source": "## Author\n\nMarta Villarroel",
      "metadata": {}
    },
    {
      "id": "8cdb14b0",
      "cell_type": "code",
      "source": "",
      "metadata": {
        "trusted": true
      },
      "outputs": [],
      "execution_count": null
    }
  ]
}